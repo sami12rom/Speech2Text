{
 "cells": [
  {
   "cell_type": "code",
   "execution_count": 8,
   "metadata": {},
   "outputs": [],
   "source": [
    "import datetime\r\n",
    "import time\r\n",
    "\r\n",
    "from azureml.core import Workspace\r\n",
    "from azureml.core.compute import ComputeTarget, AmlCompute, ComputeInstance\r\n",
    "from azureml.core.compute_target import ComputeTargetException"
   ]
  },
  {
   "cell_type": "code",
   "execution_count": 4,
   "metadata": {},
   "outputs": [
    {
     "name": "stdout",
     "output_type": "stream",
     "text": [
      "Deploying AppInsights with name amlworksinsights113961a8.\n",
      "Deployed AppInsights with name amlworksinsights113961a8. Took 3.9 seconds.\n",
      "Deploying KeyVault with name amlworkskeyvault9d3a676b.\n",
      "Deploying StorageAccount with name amlworksstorage108815ab0.\n",
      "Deployed KeyVault with name amlworkskeyvault9d3a676b. Took 18.54 seconds.\n",
      "Deployed StorageAccount with name amlworksstorage108815ab0. Took 20.31 seconds.\n",
      "Deploying Workspace with name aml-workspace.\n",
      "Deployed Workspace with name aml-workspace. Took 65.07 seconds.\n"
     ]
    }
   ],
   "source": [
    "ws = Workspace.create(name='aml-workspace', \r\n",
    "                    subscription_id='611884b3-cca6-4214-9ec6-f90de47a3d79',\r\n",
    "                    resource_group='Trial3',\r\n",
    "                    create_resource_group=True,\r\n",
    "                    location='westeurope'\r\n",
    "                    )"
   ]
  },
  {
   "cell_type": "code",
   "execution_count": 7,
   "metadata": {},
   "outputs": [
    {
     "name": "stdout",
     "output_type": "stream",
     "text": [
      "Creating\n",
      "Succeeded\n",
      "AmlCompute wait for completion finished\n",
      "\n",
      "Minimum number of nodes requested have been provisioned\n"
     ]
    }
   ],
   "source": [
    "# Choose a name for your CPU cluster\r\n",
    "cpu_cluster_name = \"cpucluster\"\r\n",
    "\r\n",
    "# Verify that cluster does not exist already\r\n",
    "try:\r\n",
    "    cpu_cluster = ComputeTarget(workspace=ws, name=cpu_cluster_name)\r\n",
    "    print('Found existing cluster, use it.')\r\n",
    "except ComputeTargetException:\r\n",
    "    compute_config = AmlCompute.provisioning_configuration(vm_size='STANDARD_D2_V2', max_nodes=4)\r\n",
    "    cpu_cluster = ComputeTarget.create(ws, cpu_cluster_name, compute_config)\r\n",
    "\r\n",
    "cpu_cluster.wait_for_completion(show_output=True)"
   ]
  },
  {
   "cell_type": "code",
   "execution_count": 10,
   "metadata": {},
   "outputs": [
    {
     "name": "stdout",
     "output_type": "stream",
     "text": [
      "\n",
      "Creating.......................................\n",
      "Running\n"
     ]
    }
   ],
   "source": [
    "# Choose a name for your instance\r\n",
    "# Compute instance name should be unique across the azure region\r\n",
    "compute_name = \"ci{}\".format(ws._workspace_id)[:10]\r\n",
    "\r\n",
    "# Verify that instance does not exist already\r\n",
    "try:\r\n",
    "    instance = ComputeInstance(workspace=ws, name=compute_name)\r\n",
    "    print('Found existing instance, use it.')\r\n",
    "except ComputeTargetException:\r\n",
    "    compute_config = ComputeInstance.provisioning_configuration(\r\n",
    "        vm_size='STANDARD_D3_V2',\r\n",
    "        ssh_public_access=False,\r\n",
    "        # vnet_resourcegroup_name='<my-resource-group>',\r\n",
    "        # vnet_name='<my-vnet-name>',\r\n",
    "        # subnet_name='default',\r\n",
    "        # admin_user_ssh_public_key='<my-sshkey>'\r\n",
    "    )\r\n",
    "    instance = ComputeInstance.create(ws, compute_name, compute_config)\r\n",
    "    instance.wait_for_completion(show_output=True)"
   ]
  },
  {
   "cell_type": "code",
   "execution_count": null,
   "metadata": {},
   "outputs": [],
   "source": [
    "# get_status() gets the latest status of the ComputeInstance target\r\n",
    "instance.get_status()\r\n",
    "# stop() is used to stop the ComputeInstance\r\n",
    "# Stopping ComputeInstance will stop the billing meter and persist the state on the disk.\r\n",
    "# Available Quota will not be changed with this operation.\r\n",
    "instance.stop(wait_for_completion=True, show_output=True)\r\n",
    "# start() is used to start the ComputeInstance if it is in stopped state\r\n",
    "instance.start(wait_for_completion=True, show_output=True)\r\n",
    "# restart() is used to restart the ComputeInstance\r\n",
    "instance.restart(wait_for_completion=True, show_output=True)\r\n",
    "# delete() is used to delete the ComputeInstance target. Useful if you want to re-use the compute name \r\n",
    "instance.delete(wait_for_completion=True, show_output=True)"
   ]
  },
  {
   "cell_type": "code",
   "execution_count": 13,
   "metadata": {},
   "outputs": [
    {
     "name": "stdout",
     "output_type": "stream",
     "text": [
      "Deleting.............................................\n",
      "Deleted\n",
      "Compute instance has successfully deleted.\n"
     ]
    }
   ],
   "source": [
    "instance.delete(wait_for_completion=True, show_output=True)"
   ]
  },
  {
   "cell_type": "code",
   "execution_count": 14,
   "metadata": {},
   "outputs": [],
   "source": [
    "ws.delete(delete_dependent_resources=False, no_wait=False)"
   ]
  },
  {
   "cell_type": "code",
   "execution_count": null,
   "metadata": {},
   "outputs": [],
   "source": []
  }
 ],
 "metadata": {
  "kernelspec": {
   "display_name": "Python 3.8.7  ('.venv': venv)",
   "metadata": {
    "interpreter": {
     "hash": "6a2852eccab1c077b33714ca2f50b51092f01c7c294f28e6f86b17e0fe1ff95b"
    }
   },
   "name": "python3"
  },
  "language_info": {
   "codemirror_mode": {
    "name": "ipython",
    "version": 3
   },
   "file_extension": ".py",
   "mimetype": "text/x-python",
   "name": "python",
   "nbconvert_exporter": "python",
   "pygments_lexer": "ipython3",
   "version": "3.8.7"
  },
  "orig_nbformat": 2
 },
 "nbformat": 4,
 "nbformat_minor": 2
}