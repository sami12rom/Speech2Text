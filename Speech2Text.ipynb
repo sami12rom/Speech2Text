{
 "cells": [
  {
   "cell_type": "code",
   "execution_count": 10,
   "metadata": {},
   "outputs": [],
   "source": [
    "import azure.cognitiveservices.speech as speechsdk\r\n",
    "import os, time\r\n",
    "\r\n",
    "speech_key, service_region = \"8046353796ec4bfabe43ffa33a005830\", \"westeurope\"\r\n",
    "speech_config = speechsdk.SpeechConfig(subscription=speech_key, region=service_region, speech_recognition_language=\"en-US\")"
   ]
  },
  {
   "cell_type": "code",
   "execution_count": 11,
   "metadata": {},
   "outputs": [
    {
     "name": "stdout",
     "output_type": "stream",
     "text": [
      "Recognizing results...\n",
      "SESSION STARTED: SessionEventArgs(session_id=da6ea581657f44c7b8dc32036dd90ecf)\n",
      "The Birch canoe slid on the smooth planks. Glue the sheet to the dark blue background.\n",
      "It is easy to tell the depth over well.\n",
      "These days, a chicken leg is a rare dish.\n",
      "Race is often served in round bowls.\n",
      "The juice of lemons makes fine punch.\n",
      "The box was done beside the park truck.\n",
      "The Hogs are fed chop corn and garbage.\n",
      "4 hours of steady work faced us.\n",
      "A large size in stockings is hard to sell.\n",
      "\n",
      "SESSION STOPPED SessionEventArgs(session_id=da6ea581657f44c7b8dc32036dd90ecf)\n"
     ]
    }
   ],
   "source": [
    "#To Get Text for a long Speech\r\n",
    "path=\"OSR_us_000_0010_8k.wav\"\r\n",
    "audio_input = speechsdk.AudioConfig(filename=path)\r\n",
    "speech_recognizer = speechsdk.SpeechRecognizer(speech_config=speech_config, audio_config=audio_input)\r\n",
    "\r\n",
    "f=open(path,\"rb\")\r\n",
    "# ByteRate is located at the first 28th byte\r\n",
    "f.seek(28)\r\n",
    "a = f.read(4)\r\n",
    "f.close()\r\n",
    "# convert string a into integer/longint value\r\n",
    "# a is little endian, so proper conversion is required\r\n",
    "byteRate = 0\r\n",
    "for i in range(4):\r\n",
    "    byteRate += a[i] * pow(256, i)\r\n",
    "# get the file size in bytes\r\n",
    "fileSize = os.path.getsize(path)  \r\n",
    "# the duration of the data, in milliseconds, is given by\r\n",
    "seconds = ((fileSize - 44) * 1000) / byteRate /1000\r\n",
    "file_input_length = round(seconds)\r\n",
    "\r\n",
    "speech_recognizer.session_started.connect(lambda evt: print(f'SESSION STARTED: {evt}'))\r\n",
    "speech_recognizer.session_stopped.connect(lambda evt: print(f'\\nSESSION STOPPED {evt}'))\r\n",
    "speech_recognizer.recognized.connect(lambda evt: print(f'{evt.result.text}'))\r\n",
    "\r\n",
    "print(\"Recognizing results...\")\r\n",
    "#speech_recognizer.start_continuous_recognition()\r\n",
    "speech_recognizer.start_continuous_recognition_async()\r\n",
    "time.sleep(file_input_length)\r\n",
    "speech_recognizer.stop_continuous_recognition_async()\r\n",
    "#speech_recognizer.stop_continuous_recognition()\r\n",
    "\r\n",
    "speech_recognizer.session_started.disconnect_all()\r\n",
    "speech_recognizer.recognized.disconnect_all()\r\n",
    "speech_recognizer.session_stopped.disconnect_all()"
   ]
  },
  {
   "cell_type": "code",
   "execution_count": 12,
   "metadata": {},
   "outputs": [
    {
     "name": "stdout",
     "output_type": "stream",
     "text": [
      "Recognizing first result...\n",
      "Recognized: What's the weather like?\n"
     ]
    }
   ],
   "source": [
    "#To Get First Text Result for a Speech\r\n",
    "path=\"whatstheweatherlike.wav\"\r\n",
    "audio_input = speechsdk.AudioConfig(filename=path)\r\n",
    "speech_recognizer = speechsdk.SpeechRecognizer(speech_config=speech_config, audio_config=audio_input)\r\n",
    "\r\n",
    "print(\"Recognizing first result...\")\r\n",
    "result = speech_recognizer.recognize_once()\r\n",
    "\r\n",
    "if result.reason == speechsdk.ResultReason.RecognizedSpeech:\r\n",
    "    print(\"Recognized: {}\".format(result.text))\r\n",
    "elif result.reason == speechsdk.ResultReason.NoMatch:\r\n",
    "    print(\"No speech could be recognized: {}\".format(result.no_match_details))\r\n",
    "elif result.reason == speechsdk.ResultReason.Canceled:\r\n",
    "    cancellation_details = result.cancellation_details\r\n",
    "    print(\"Speech Recognition canceled: {}\".format(cancellation_details.reason))\r\n",
    "    if cancellation_details.reason == speechsdk.CancellationReason.Error:\r\n",
    "        print(\"Error details: {}\".format(cancellation_details.error_details))"
   ]
  },
  {
   "cell_type": "code",
   "execution_count": null,
   "metadata": {},
   "outputs": [],
   "source": [
    "#To Get Text from Microphone\r\n",
    "speech_recognizer = speechsdk.SpeechRecognizer(speech_config=speech_config)\r\n",
    "\r\n",
    "print(\"Begin speaking...\")\r\n",
    "result = speech_recognizer.recognize_once()\r\n",
    "\r\n",
    "if result.reason == speechsdk.ResultReason.RecognizedSpeech:\r\n",
    "    print(\"Recognized: {}\".format(result.text))\r\n",
    "elif result.reason == speechsdk.ResultReason.NoMatch:\r\n",
    "    print(\"No speech could be recognized: {}\".format(result.no_match_details))\r\n",
    "elif result.reason == speechsdk.ResultReason.Canceled:\r\n",
    "    cancellation_details = result.cancellation_details\r\n",
    "    print(\"Speech Recognition canceled: {}\".format(cancellation_details.reason))\r\n",
    "    if cancellation_details.reason == speechsdk.CancellationReason.Error:\r\n",
    "        print(\"Error details: {}\".format(cancellation_details.error_details))"
   ]
  }
 ],
 "metadata": {
  "kernelspec": {
   "display_name": "Python 3.8.7  ('.venv': venv)",
   "metadata": {
    "interpreter": {
     "hash": "6a2852eccab1c077b33714ca2f50b51092f01c7c294f28e6f86b17e0fe1ff95b"
    }
   },
   "name": "python3"
  },
  "language_info": {
   "codemirror_mode": {
    "name": "ipython",
    "version": 3
   },
   "file_extension": ".py",
   "mimetype": "text/x-python",
   "name": "python",
   "nbconvert_exporter": "python",
   "pygments_lexer": "ipython3",
   "version": "3.8.7"
  },
  "orig_nbformat": 2
 },
 "nbformat": 4,
 "nbformat_minor": 2
}