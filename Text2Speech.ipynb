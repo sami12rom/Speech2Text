{
 "cells": [
  {
   "cell_type": "code",
   "execution_count": 1,
   "metadata": {},
   "outputs": [],
   "source": [
    "import azure.cognitiveservices.speech as speechsdk\r\n",
    "import os, datetime\r\n",
    "# Creates an instance of a speech config with specified subscription key and service region.\r\n",
    "# Replace with your own subscription key and service region (e.g., \"westus\").\r\n",
    "speech_key, service_region = \"8046353796ec4bfabe43ffa33a005830\", \"westeurope\"\r\n",
    "speech_config = speechsdk.SpeechConfig(subscription=speech_key, region=service_region)"
   ]
  },
  {
   "cell_type": "code",
   "execution_count": 2,
   "metadata": {},
   "outputs": [],
   "source": [
    "#Change the voice used for synthesis\r\n",
    "speech_config.speech_synthesis_voice_name = \"en-US-AriaRUS\" #en-CA-Linda\r\n",
    "# Creates a speech synthesizer using the default speaker as audio output.\r\n",
    "speech_synthesizer = speechsdk.SpeechSynthesizer(speech_config=speech_config)\r\n",
    "# Receives a text from console input.\r\n",
    "#print(\"Type some text that you want to speak...\")\r\n",
    "#text = input()\r\n",
    "text = \"Ezekiel 25:17. The path of the righteous man is beset on all sides by the inequities of the selfish and the tyranny of evil men. \\\r\n",
    "Blessed is he who, in the name of charity and good will, shepherds the weak through the valley of the darkness, for he is truly his brother’s keeper and the finder of lost children.\""
   ]
  },
  {
   "cell_type": "code",
   "execution_count": 3,
   "metadata": {},
   "outputs": [
    {
     "name": "stdout",
     "output_type": "stream",
     "text": [
      "Speech synthesized to speaker for text [Ezekiel 25:17. The path of the righteous man is beset on all sides by the inequities of the selfish and the tyranny of evil men. Blessed is he who, in the name of charity and good will, shepherds the weak through the valley of the darkness, for he is truly his brother’s keeper and the finder of lost children.]\n"
     ]
    }
   ],
   "source": [
    "# Synthesizes the received text to speech.\r\n",
    "# The synthesized speech is expected to be heard on the speaker with this line executed.\r\n",
    "result = speech_synthesizer.speak_text_async(text).get()\r\n",
    "\r\n",
    "# Checks result.\r\n",
    "if result.reason == speechsdk.ResultReason.SynthesizingAudioCompleted:\r\n",
    "    print(\"Speech synthesized to speaker for text [{}]\".format(text))\r\n",
    "elif result.reason == speechsdk.ResultReason.Canceled:\r\n",
    "    cancellation_details = result.cancellation_details\r\n",
    "    print(\"Speech synthesis canceled: {}\".format(cancellation_details.reason))\r\n",
    "    if cancellation_details.reason == speechsdk.CancellationReason.Error:\r\n",
    "        if cancellation_details.error_details:\r\n",
    "            print(\"Error details: {}\".format(cancellation_details.error_details))\r\n",
    "    print(\"Did you update the subscription info?\")"
   ]
  },
  {
   "cell_type": "code",
   "execution_count": 30,
   "metadata": {},
   "outputs": [
    {
     "name": "stdout",
     "output_type": "stream",
     "text": [
      "Type some text that you want to speak...\n",
      "Speech synthesized to speaker for text [Ezekiel 25:17. The path of the righteous man is beset on all sides by the inequities of the selfish and the tyranny of evil men. Blessed is he who, in the name of charity and good will, shepherds the weak through the valley of the darkness, for he is truly his brother’s keeper and the finder of lost children.]\n"
     ]
    }
   ],
   "source": [
    "# Creates an audio configuration that points to an audio file.\r\n",
    "# Replace with your own audio filename.\r\n",
    "audio_filename = f'text-to-speech-py {datetime.datetime.today().strftime(\"%Y-%m-%d %I.%M.%S\")}.wav'\r\n",
    "audio_output = speechsdk.audio.AudioOutputConfig(filename=audio_filename)\r\n",
    "\r\n",
    "# Creates a synthesizer with the given settings\r\n",
    "speech_synthesizer = speechsdk.SpeechSynthesizer(speech_config=speech_config, audio_config=audio_output)\r\n",
    "\r\n",
    "# Receives a text from console input.\r\n",
    "print(\"Type some text that you want to speak...\")\r\n",
    "#text = input()\r\n",
    "text = \"Ezekiel 25:17. The path of the righteous man is beset on all sides by the inequities of the selfish and the tyranny of evil men. \\\r\n",
    "Blessed is he who, in the name of charity and good will, shepherds the weak through the valley of the darkness, for he is truly his brother’s keeper and the finder of lost children.\"\r\n",
    "\r\n",
    "# Synthesizes the text to speech.\r\n",
    "result = speech_synthesizer.speak_text_async(text).get()\r\n",
    "\r\n",
    "# Checks result.\r\n",
    "if result.reason == speechsdk.ResultReason.SynthesizingAudioCompleted:\r\n",
    "    print(\"Speech synthesized to speaker for text [{}]\".format(text))\r\n",
    "elif result.reason == speechsdk.ResultReason.Canceled:\r\n",
    "    cancellation_details = result.cancellation_details\r\n",
    "    print(\"Speech synthesis canceled: {}\".format(cancellation_details.reason))\r\n",
    "    if cancellation_details.reason == speechsdk.CancellationReason.Error:\r\n",
    "        if cancellation_details.error_details:\r\n",
    "            print(\"Error details: {}\".format(cancellation_details.error_details))\r\n",
    "    print(\"Did you update the subscription info?\")"
   ]
  },
  {
   "cell_type": "code",
   "execution_count": null,
   "metadata": {},
   "outputs": [],
   "source": []
  }
 ],
 "metadata": {
  "kernelspec": {
   "display_name": "Python 3.8.7  ('.venv': venv)",
   "metadata": {
    "interpreter": {
     "hash": "6a2852eccab1c077b33714ca2f50b51092f01c7c294f28e6f86b17e0fe1ff95b"
    }
   },
   "name": "python3"
  },
  "language_info": {
   "codemirror_mode": {
    "name": "ipython",
    "version": 3
   },
   "file_extension": ".py",
   "mimetype": "text/x-python",
   "name": "python",
   "nbconvert_exporter": "python",
   "pygments_lexer": "ipython3",
   "version": "3.8.7"
  },
  "orig_nbformat": 2
 },
 "nbformat": 4,
 "nbformat_minor": 2
}