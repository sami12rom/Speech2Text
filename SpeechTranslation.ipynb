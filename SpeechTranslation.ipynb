{
 "cells": [
  {
   "cell_type": "code",
   "execution_count": 1,
   "metadata": {},
   "outputs": [],
   "source": [
    "import azure.cognitiveservices.speech as speechsdk\r\n",
    "import os, datetime\r\n",
    "# Creates an instance of a speech config with specified subscription key and service region.\r\n",
    "# Replace with your own subscription key and service region (e.g., \"westus\").\r\n",
    "speech_key, service_region = \"8046353796ec4bfabe43ffa33a005830\", \"westeurope\""
   ]
  },
  {
   "cell_type": "code",
   "execution_count": 2,
   "metadata": {},
   "outputs": [
    {
     "name": "stdout",
     "output_type": "stream",
     "text": [
      "Say something...\n",
      "RECOGNIZED 'en-US': Hi, how you doing?\n",
      "TRANSLATED into de: Hallo, wie geht es dir?\n"
     ]
    }
   ],
   "source": [
    "def translate_speech_to_text():\r\n",
    "\r\n",
    "    # Creates an instance of a speech translation config with specified subscription key and service region.\r\n",
    "    # Replace with your own subscription key and region identifier from here: https://aka.ms/speech/sdkregion\r\n",
    "    translation_config = speechsdk.translation.SpeechTranslationConfig(subscription=speech_key, region=service_region)\r\n",
    "\r\n",
    "    # Sets source and target languages.\r\n",
    "    # Replace with the languages of your choice, from list found here: https://aka.ms/speech/sttt-languages\r\n",
    "    fromLanguage = 'en-US'\r\n",
    "    toLanguage = 'de'\r\n",
    "    translation_config.speech_recognition_language = fromLanguage\r\n",
    "    translation_config.add_target_language(toLanguage)\r\n",
    "     # Creates a translation recognizer using and audio file as input.\r\n",
    "    recognizer = speechsdk.translation.TranslationRecognizer(translation_config=translation_config)\r\n",
    "\r\n",
    "    # Starts translation, and returns after a single utterance is recognized. The end of a\r\n",
    "    # single utterance is determined by listening for silence at the end or until a maximum of 15\r\n",
    "    # seconds of audio is processed. It returns the recognized text as well as the translation.\r\n",
    "    # Note: Since recognize_once() returns only a single utterance, it is suitable only for single\r\n",
    "    # shot recognition like command or query.\r\n",
    "    # For long-running multi-utterance recognition, use start_continuous_recognition() instead.\r\n",
    "    print(\"Say something...\")\r\n",
    "    result = recognizer.recognize_once()\r\n",
    "\r\n",
    "    # Check the result\r\n",
    "    if result.reason == speechsdk.ResultReason.TranslatedSpeech:\r\n",
    "        print(\"RECOGNIZED '{}': {}\".format(fromLanguage, result.text))\r\n",
    "        print(\"TRANSLATED into {}: {}\".format(toLanguage, result.translations[toLanguage]))\r\n",
    "    elif result.reason == speechsdk.ResultReason.RecognizedSpeech:\r\n",
    "        print(\"RECOGNIZED: {} (text could not be translated)\".format(result.text))\r\n",
    "    elif result.reason == speechsdk.ResultReason.NoMatch:\r\n",
    "        print(\"NOMATCH: Speech could not be recognized: {}\".format(result.no_match_details))\r\n",
    "    elif result.reason == speechsdk.ResultReason.Canceled:\r\n",
    "        print(\"CANCELED: Reason={}\".format(result.cancellation_details.reason))\r\n",
    "        if result.cancellation_details.reason == speechsdk.CancellationReason.Error:\r\n",
    "            print(\"CANCELED: ErrorDetails={}\".format(result.cancellation_details.error_details))\r\n",
    "\r\n",
    "translate_speech_to_text()"
   ]
  },
  {
   "cell_type": "code",
   "execution_count": 7,
   "metadata": {},
   "outputs": [
    {
     "name": "stdout",
     "output_type": "stream",
     "text": [
      "Say something...\n",
      "RECOGNIZED 'en-US': Hello good morning.\n",
      "TRANSLATED into de: Hallo, guten Morgen.\n"
     ]
    }
   ],
   "source": [
    "def translate_speech_to_speech():\r\n",
    "\r\n",
    "    # Creates an instance of a speech translation config with specified subscription key and service region.\r\n",
    "    # Replace with your own subscription key and region identifier from here: https://aka.ms/speech/sdkregion\r\n",
    "    translation_config = speechsdk.translation.SpeechTranslationConfig(subscription=speech_key, region=service_region)\r\n",
    "\r\n",
    "    speech_config = speechsdk.SpeechConfig(subscription=speech_key, region=service_region)\r\n",
    "\r\n",
    "    # Sets the synthesis output voice name.\r\n",
    "    # Replace with the languages of your choice, from list found here: https://aka.ms/speech/tts-languages\r\n",
    "    speech_config.speech_synthesis_voice_name = \"de-DE-Hedda\"\r\n",
    "\r\n",
    "    # Creates a speech synthesizer using the configured voice for audio output.\r\n",
    "    speech_synthesizer = speechsdk.SpeechSynthesizer(speech_config=speech_config)\r\n",
    "\r\n",
    "    # Sets source and target languages.\r\n",
    "    # In this example, the service will translate a US English spoken input, to a German language spoken output\r\n",
    "    # Replace with the languages of your choice, from list found here: https://aka.ms/speech/sttt-languages\r\n",
    "    fromLanguage = 'en-US'\r\n",
    "    toLanguage = 'de'\r\n",
    "    translation_config.speech_recognition_language = fromLanguage\r\n",
    "    translation_config.add_target_language(toLanguage)\r\n",
    "\r\n",
    "    # Creates a translation recognizer using and audio file as input.\r\n",
    "    recognizer = speechsdk.translation.TranslationRecognizer(translation_config=translation_config)\r\n",
    "\r\n",
    "    # Prepare to handle the synthesized audio data.\r\n",
    "    def synthesis_callback(evt):\r\n",
    "        size = len(evt.result.audio)\r\n",
    "        print('AUDIO SYNTHESIZED: {} byte(s) {}'.format(size, '(COMPLETED)' if size == 0 else ''))\r\n",
    "\r\n",
    "    recognizer.synthesizing.connect(synthesis_callback)\r\n",
    "\r\n",
    "    # Starts translation, and returns after a single utterance is recognized. The end of a\r\n",
    "    # single utterance is determined by listening for silence at the end or until a maximum of 15\r\n",
    "    # seconds of audio is processed. It returns the recognized text as well as the translation.\r\n",
    "    # Note: Since recognize_once() returns only a single utterance, it is suitable only for single\r\n",
    "    # shot recognition like command or query.\r\n",
    "    # For long-running multi-utterance recognition, use start_continuous_recognition() instead.\r\n",
    "    print(\"Say something...\")\r\n",
    "    result = recognizer.recognize_once()\r\n",
    "\r\n",
    "    # Check the result\r\n",
    "    if result.reason == speechsdk.ResultReason.TranslatedSpeech:\r\n",
    "        print(\"RECOGNIZED '{}': {}\".format(fromLanguage, result.text))\r\n",
    "        print(\"TRANSLATED into {}: {}\".format(toLanguage, result.translations['de']))\r\n",
    "\r\n",
    "        # Synthesizes the received text to speech.\r\n",
    "        # The synthesized speech is expected to be heard on the speaker with this line executed.\r\n",
    "        result = speech_synthesizer.speak_text_async(result.translations['de']).get()\r\n",
    "\r\n",
    "    elif result.reason == speechsdk.ResultReason.RecognizedSpeech:\r\n",
    "        print(\"RECOGNIZED: {} (text could not be translated)\".format(result.text))\r\n",
    "    elif result.reason == speechsdk.ResultReason.NoMatch:\r\n",
    "        print(\"NOMATCH: Speech could not be recognized: {}\".format(result.no_match_details))\r\n",
    "    elif result.reason == speechsdk.ResultReason.Canceled:\r\n",
    "        print(\"CANCELED: Reason={}\".format(result.cancellation_details.reason))\r\n",
    "        if result.cancellation_details.reason == speechsdk.CancellationReason.Error:\r\n",
    "            print(\"CANCELED: ErrorDetails={}\".format(result.cancellation_details.error_details))\r\n",
    "\r\n",
    "translate_speech_to_speech()"
   ]
  }
 ],
 "metadata": {
  "kernelspec": {
   "display_name": "Python 3.8.7  ('.venv': venv)",
   "metadata": {
    "interpreter": {
     "hash": "6a2852eccab1c077b33714ca2f50b51092f01c7c294f28e6f86b17e0fe1ff95b"
    }
   },
   "name": "python3"
  },
  "language_info": {
   "codemirror_mode": {
    "name": "ipython",
    "version": 3
   },
   "file_extension": ".py",
   "mimetype": "text/x-python",
   "name": "python",
   "nbconvert_exporter": "python",
   "pygments_lexer": "ipython3",
   "version": "3.8.7"
  },
  "orig_nbformat": 2
 },
 "nbformat": 4,
 "nbformat_minor": 2
}