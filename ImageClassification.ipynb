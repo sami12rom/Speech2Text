{
 "cells": [
  {
   "cell_type": "code",
   "execution_count": 11,
   "metadata": {},
   "outputs": [],
   "source": [
    "import os\r\n",
    "from msrest.authentication import CognitiveServicesCredentials\r\n",
    "from azure.cognitiveservices.vision.face import FaceClient"
   ]
  },
  {
   "cell_type": "code",
   "execution_count": 22,
   "metadata": {},
   "outputs": [],
   "source": [
    "def get_face_client():\r\n",
    "    \"\"\"Create an authenticated FaceClient.\"\"\"\r\n",
    "    SUBSCRIPTION_KEY = \"e5dce536c84944b099325e8de491c67f\"\r\n",
    "    ENDPOINT = \"https://luisaface123.cognitiveservices.azure.com\"\r\n",
    "    credential = CognitiveServicesCredentials(SUBSCRIPTION_KEY)\r\n",
    "    return FaceClient(ENDPOINT, credential)"
   ]
  },
  {
   "cell_type": "code",
   "execution_count": 25,
   "metadata": {},
   "outputs": [
    {
     "name": "stdout",
     "output_type": "stream",
     "text": [
      "[{'faceId': 'c6438cf3-9d3f-4897-bdc0-34e1927e6546', 'faceRectangle': {'top': 247, 'left': 624, 'width': 272, 'height': 272}, 'faceAttributes': {'smile': 0.676, 'glasses': 'NoGlasses', 'emotion': {'anger': 0.0, 'contempt': 0.004, 'disgust': 0.0, 'fear': 0.0, 'happiness': 0.676, 'neutral': 0.319, 'sadness': 0.0, 'surprise': 0.0}}}]\n"
     ]
    }
   ],
   "source": [
    "face_client = get_face_client()\r\n",
    "\r\n",
    "url = \"https://images.unsplash.com/photo-1520123704147-ed3a34036262?ixid=MXwxMjA3fDB8MHxwaG90by1wYWdlfHx8fGVufDB8fHw%3D&ixlib=rb-1.2.1&auto=format&fit=crop&w=1500&q=80\"\r\n",
    "#url = \"https://docs.microsoft.com/en-us/learn/data-ai-cert/identify-faces-with-computer-vision/media/clo19_ubisoft_azure_068.png\"\r\n",
    "attributes = [\"emotion\", \"glasses\", \"smile\"]\r\n",
    "include_id = True\r\n",
    "include_landmarks = False\r\n",
    "\r\n",
    "detected_faces = face_client.face.detect_with_url(url, include_id, include_landmarks, attributes, raw=True)\r\n",
    "\r\n",
    "if not detected_faces:\r\n",
    "    raise Exception('No face detected in image')\r\n",
    "\r\n",
    "print(detected_faces.response.json())"
   ]
  },
  {
   "cell_type": "code",
   "execution_count": null,
   "metadata": {},
   "outputs": [],
   "source": []
  }
 ],
 "metadata": {
  "kernelspec": {
   "display_name": "Python 3.8.7  ('.venv': venv)",
   "metadata": {
    "interpreter": {
     "hash": "6a2852eccab1c077b33714ca2f50b51092f01c7c294f28e6f86b17e0fe1ff95b"
    }
   },
   "name": "python3"
  },
  "language_info": {
   "codemirror_mode": {
    "name": "ipython",
    "version": 3
   },
   "file_extension": ".py",
   "mimetype": "text/x-python",
   "name": "python",
   "nbconvert_exporter": "python",
   "pygments_lexer": "ipython3",
   "version": "3.8.7"
  },
  "orig_nbformat": 2
 },
 "nbformat": 4,
 "nbformat_minor": 2
}